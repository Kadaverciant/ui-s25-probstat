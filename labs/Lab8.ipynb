{
 "cells": [
  {
   "cell_type": "markdown",
   "metadata": {},
   "source": [
    "# Lab 8\n",
    "\n",
    "by Vsevolod Klyushev"
   ]
  },
  {
   "cell_type": "markdown",
   "metadata": {},
   "source": [
    "## Task 1\n"
   ]
  },
  {
   "cell_type": "code",
   "execution_count": null,
   "metadata": {},
   "outputs": [
    {
     "name": "stderr",
     "output_type": "stream",
     "text": [
      "100%|██████████| 1000/1000 [00:30<00:00, 32.49it/s]"
     ]
    },
    {
     "name": "stdout",
     "output_type": "stream",
     "text": [
      "Within 1000 trials acceptance rate is 100.0%\n"
     ]
    },
    {
     "name": "stderr",
     "output_type": "stream",
     "text": [
      "\n"
     ]
    },
    {
     "ename": "",
     "evalue": "",
     "output_type": "error",
     "traceback": [
      "\u001b[1;31mThe Kernel crashed while executing code in the current cell or a previous cell. \n",
      "\u001b[1;31mPlease review the code in the cell(s) to identify a possible cause of the failure. \n",
      "\u001b[1;31mClick <a href='https://aka.ms/vscodeJupyterKernelCrash'>here</a> for more info. \n",
      "\u001b[1;31mView Jupyter <a href='command:jupyter.viewOutput'>log</a> for further details."
     ]
    }
   ],
   "source": [
    "import numpy as np\n",
    "import pandas as pd\n",
    "from tqdm import tqdm\n",
    "\n",
    "def generate_data_with_var(N, d):\n",
    "    A = np.random.rand(d, d)\n",
    "    Sigma = np.dot(A, A.T)\n",
    "    X = np.random.multivariate_normal(mean=np.zeros(d), cov=Sigma, size=N)\n",
    "    return X, Sigma\n",
    "    \n",
    "def check_Davis_Kahan(generator, dim=3, N = 10**4, d = 10**2):\n",
    "    X, Sigma = generator(N, d)\n",
    "    Sigma_hat = X.T @ X / N\n",
    "\n",
    "    eigenvalues, eigenvectors = np.linalg.eigh(Sigma)\n",
    "    eigenvalues_hat, eigenvectors_hat = np.linalg.eigh(Sigma_hat)\n",
    "    \n",
    "    idx = np.argsort(eigenvalues)[::-1]\n",
    "    eigenvalues = eigenvalues[idx]\n",
    "    eigenvectors = eigenvectors[:, idx]\n",
    "\n",
    "    idx_hat = np.argsort(eigenvalues_hat)[::-1]\n",
    "    eigenvalues_hat = eigenvalues_hat[idx_hat]\n",
    "    eigenvectors_hat = eigenvectors_hat[:, idx_hat]\n",
    "\n",
    "    P = eigenvectors[:, :dim] @ eigenvectors[:, :dim].T\n",
    "    P_hat = eigenvectors_hat[:, :dim] @ eigenvectors_hat[:, :dim].T\n",
    "\n",
    "    P_err = np.linalg.norm(P_hat - P, ord=2)\n",
    "    bound = np.linalg.norm(Sigma_hat - Sigma, ord=2) / np.abs(eigenvalues_hat[dim] - eigenvalues_hat[dim+1])\n",
    "    \n",
    "    return P_err <= bound\n",
    "\n",
    "def perform_trials(func, argfunc, trials=10**3):\n",
    "    resp = []\n",
    "    for _ in tqdm(range(trials)):\n",
    "        resp.append(func(argfunc))\n",
    "    print(f\"Within {trials} trials acceptance rate is {sum(resp) / len(resp) * 100}%\") \n",
    "\n",
    "perform_trials(check_Davis_Kahan, generate_data_with_var)"
   ]
  },
  {
   "cell_type": "markdown",
   "metadata": {},
   "source": [
    "## Result\n",
    "\n",
    "As we can see, even after conducting several experimantts that condition always holds"
   ]
  },
  {
   "cell_type": "markdown",
   "metadata": {},
   "source": []
  }
 ],
 "metadata": {
  "kernelspec": {
   "display_name": ".venv",
   "language": "python",
   "name": "python3"
  },
  "language_info": {
   "codemirror_mode": {
    "name": "ipython",
    "version": 3
   },
   "file_extension": ".py",
   "mimetype": "text/x-python",
   "name": "python",
   "nbconvert_exporter": "python",
   "pygments_lexer": "ipython3",
   "version": "3.12.2"
  }
 },
 "nbformat": 4,
 "nbformat_minor": 2
}
